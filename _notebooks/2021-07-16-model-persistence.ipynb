{
 "metadata": {
  "language_info": {
   "codemirror_mode": {
    "name": "ipython",
    "version": 3
   },
   "file_extension": ".py",
   "mimetype": "text/x-python",
   "name": "python",
   "nbconvert_exporter": "python",
   "pygments_lexer": "ipython3",
   "version": "3.8.8"
  },
  "orig_nbformat": 4,
  "kernelspec": {
   "name": "python3",
   "display_name": "Python 3.8.8 64-bit ('base': conda)"
  },
  "interpreter": {
   "hash": "0b020833b2c3a67c2c39134f91d2c3085bcb27873d17143929015ae5a55834f7"
  }
 },
 "nbformat": 4,
 "nbformat_minor": 2,
 "cells": [
  {
   "source": [
    "# How to Save and Load Models using joblib or pickle\n",
    "> Choose what you love. \n",
    "\n",
    "- toc: true \n",
    "- badges: true\n",
    "- comments: true\n",
    "- categories: [jupyter]"
   ],
   "cell_type": "markdown",
   "metadata": {}
  },
  {
   "source": [
    "Let's say you have a trained model named `your_model`, and you want to save it instead of training it every time you need to use the model. You want to *reuse* the model."
   ],
   "cell_type": "markdown",
   "metadata": {}
  },
  {
   "cell_type": "code",
   "execution_count": 15,
   "metadata": {},
   "outputs": [],
   "source": [
    "from sklearn.linear_model import LinearRegression\n",
    "your_model = LinearRegression()\n",
    "\n",
    "# Let's pretend that `your_model` was trained. Shall we? ;)"
   ]
  },
  {
   "source": [
    "For that, we can use `joblib` or `pickle`, and thanks to the Python community, both of them are included if you use [Anaconda](https://docs.anaconda.com/anaconda/packages/old-pkg-lists/4.3.1/py35/). So you don't need to install any of them for saving your models. Let's get into it.\n",
    "\n",
    "## Saving Models\n",
    "### joblib"
   ],
   "cell_type": "markdown",
   "metadata": {}
  },
  {
   "cell_type": "code",
   "execution_count": 16,
   "metadata": {},
   "outputs": [
    {
     "output_type": "execute_result",
     "data": {
      "text/plain": [
       "['your_model.joblib']"
      ]
     },
     "metadata": {},
     "execution_count": 16
    }
   ],
   "source": [
    "from joblib import dump\n",
    "dump(your_model, 'your_model.joblib')"
   ]
  },
  {
   "source": [
    "### pickle"
   ],
   "cell_type": "markdown",
   "metadata": {}
  },
  {
   "cell_type": "code",
   "execution_count": 17,
   "metadata": {},
   "outputs": [],
   "source": [
    "import pickle\n",
    "with open('your_model_2.pickle', 'wb') as f:\n",
    "    f.write(pickle.dumps(your_model))"
   ]
  },
  {
   "source": [
    "## Loading Models\n",
    "### joblib"
   ],
   "cell_type": "markdown",
   "metadata": {}
  },
  {
   "cell_type": "code",
   "execution_count": 18,
   "metadata": {},
   "outputs": [],
   "source": [
    "from joblib import load\n",
    "saved_model = load('your_model.joblib')"
   ]
  },
  {
   "source": [
    "### pickle"
   ],
   "cell_type": "markdown",
   "metadata": {}
  },
  {
   "cell_type": "code",
   "execution_count": 19,
   "metadata": {},
   "outputs": [],
   "source": [
    "import pickle\n",
    "saved_model_2 = pickle.loads(open('your_model_2.pickle', 'rb').read())"
   ]
  },
  {
   "cell_type": "code",
   "execution_count": 22,
   "metadata": {},
   "outputs": [
    {
     "output_type": "execute_result",
     "data": {
      "text/plain": [
       "LinearRegression()"
      ]
     },
     "metadata": {},
     "execution_count": 22
    }
   ],
   "source": [
    "saved_model # to check your `saved_model` is loaded correctly or not"
   ]
  },
  {
   "source": [
    "saved_model_2 # to check your `saved_model_2` is loaded correctly or not"
   ],
   "cell_type": "code",
   "metadata": {},
   "execution_count": 23,
   "outputs": [
    {
     "output_type": "execute_result",
     "data": {
      "text/plain": [
       "LinearRegression()"
      ]
     },
     "metadata": {},
     "execution_count": 23
    }
   ]
  },
  {
   "source": [],
   "cell_type": "markdown",
   "metadata": {}
  }
 ]
}